{
 "cells": [
  {
   "cell_type": "code",
   "execution_count": 24,
   "metadata": {},
   "outputs": [],
   "source": [
    "import sys\n",
    "# sys.path.append(\"Codes/\")\n",
    "# import TMPD_understanding_tasks.py"
   ]
  },
  {
   "cell_type": "code",
   "execution_count": null,
   "metadata": {},
   "outputs": [],
   "source": []
  },
  {
   "cell_type": "code",
   "execution_count": 35,
   "metadata": {},
   "outputs": [
    {
     "name": "stderr",
     "output_type": "stream",
     "text": [
      "d:\\OneDrive\\_Cloud Disk\\Projetos de programação\\Python Projects\\Git\\GitHub\\Transition_Matrix_Process_Drift\\.venv\\Lib\\site-packages\\statsmodels\\stats\\proportion.py:1005: RuntimeWarning: invalid value encountered in divide\n",
      "  prop = count * 1. / nobs\n",
      "d:\\OneDrive\\_Cloud Disk\\Projetos de programação\\Python Projects\\Git\\GitHub\\Transition_Matrix_Process_Drift\\.venv\\Lib\\site-packages\\statsmodels\\stats\\proportion.py:1019: RuntimeWarning: invalid value encountered in scalar divide\n",
      "  p_pooled = np.sum(count) * 1. / np.sum(nobs)\n",
      "d:\\OneDrive\\_Cloud Disk\\Projetos de programação\\Python Projects\\Git\\GitHub\\Transition_Matrix_Process_Drift\\.venv\\Lib\\site-packages\\statsmodels\\stats\\proportion.py:1021: RuntimeWarning: divide by zero encountered in divide\n",
      "  nobs_fact = np.sum(1. / nobs)\n",
      "d:\\OneDrive\\_Cloud Disk\\Projetos de programação\\Python Projects\\Git\\GitHub\\Transition_Matrix_Process_Drift\\.venv\\Lib\\site-packages\\statsmodels\\stats\\weightstats.py:792: RuntimeWarning: invalid value encountered in scalar divide\n",
      "  zstat = value / std\n",
      "d:\\OneDrive\\_Cloud Disk\\Projetos de programação\\Python Projects\\Git\\GitHub\\Transition_Matrix_Process_Drift\\.venv\\Lib\\site-packages\\statsmodels\\stats\\proportion.py:1024: RuntimeWarning: invalid value encountered in scalar multiply\n",
      "  var_ = p_pooled * (1 - p_pooled) * nobs_fact\n"
     ]
    },
    {
     "ename": "TypeError",
     "evalue": "'>=' not supported between instances of 'str' and 'int'",
     "output_type": "error",
     "traceback": [
      "\u001b[1;31m---------------------------------------------------------------------------\u001b[0m",
      "\u001b[1;31mTypeError\u001b[0m                                 Traceback (most recent call last)",
      "\u001b[1;32md:\\OneDrive\\_Cloud Disk\\Projetos de programação\\Python Projects\\Git\\GitHub\\Transition_Matrix_Process_Drift\\Demonstration - Understanding Tasks.ipynb Cell 3\u001b[0m line \u001b[0;36m7\n\u001b[0;32m     <a href='vscode-notebook-cell:/d%3A/OneDrive/_Cloud%20Disk/Projetos%20de%20programa%C3%A7%C3%A3o/Python%20Projects/Git/GitHub/Transition_Matrix_Process_Drift/Demonstration%20-%20Understanding%20Tasks.ipynb#X13sZmlsZQ%3D%3D?line=73'>74</a>\u001b[0m     \u001b[39mreturn\u001b[39;00m significant_transitions\n\u001b[0;32m     <a href='vscode-notebook-cell:/d%3A/OneDrive/_Cloud%20Disk/Projetos%20de%20programa%C3%A7%C3%A3o/Python%20Projects/Git/GitHub/Transition_Matrix_Process_Drift/Demonstration%20-%20Understanding%20Tasks.ipynb#X13sZmlsZQ%3D%3D?line=75'>76</a>\u001b[0m \u001b[39m# Detect significant transitions for all variables in the datasets\u001b[39;00m\n\u001b[1;32m---> <a href='vscode-notebook-cell:/d%3A/OneDrive/_Cloud%20Disk/Projetos%20de%20programa%C3%A7%C3%A3o/Python%20Projects/Git/GitHub/Transition_Matrix_Process_Drift/Demonstration%20-%20Understanding%20Tasks.ipynb#X13sZmlsZQ%3D%3D?line=76'>77</a>\u001b[0m significant_transitions_list \u001b[39m=\u001b[39m detect_significant_transitions(reference_window_df, detection_window_df)\n\u001b[0;32m     <a href='vscode-notebook-cell:/d%3A/OneDrive/_Cloud%20Disk/Projetos%20de%20programa%C3%A7%C3%A3o/Python%20Projects/Git/GitHub/Transition_Matrix_Process_Drift/Demonstration%20-%20Understanding%20Tasks.ipynb#X13sZmlsZQ%3D%3D?line=77'>78</a>\u001b[0m significant_transitions_list\n",
      "\u001b[1;32md:\\OneDrive\\_Cloud Disk\\Projetos de programação\\Python Projects\\Git\\GitHub\\Transition_Matrix_Process_Drift\\Demonstration - Understanding Tasks.ipynb Cell 3\u001b[0m line \u001b[0;36m5\n\u001b[0;32m     <a href='vscode-notebook-cell:/d%3A/OneDrive/_Cloud%20Disk/Projetos%20de%20programa%C3%A7%C3%A3o/Python%20Projects/Git/GitHub/Transition_Matrix_Process_Drift/Demonstration%20-%20Understanding%20Tasks.ipynb#X13sZmlsZQ%3D%3D?line=48'>49</a>\u001b[0m test_vars \u001b[39m=\u001b[39m [var\u001b[39m.\u001b[39msplit(\u001b[39m'\u001b[39m\u001b[39m_ref\u001b[39m\u001b[39m'\u001b[39m)[\u001b[39m0\u001b[39m] \u001b[39mfor\u001b[39;00m var \u001b[39min\u001b[39;00m test_vars \u001b[39mif\u001b[39;00m \u001b[39m'\u001b[39m\u001b[39m_ref\u001b[39m\u001b[39m'\u001b[39m \u001b[39min\u001b[39;00m var]\n\u001b[0;32m     <a href='vscode-notebook-cell:/d%3A/OneDrive/_Cloud%20Disk/Projetos%20de%20programa%C3%A7%C3%A3o/Python%20Projects/Git/GitHub/Transition_Matrix_Process_Drift/Demonstration%20-%20Understanding%20Tasks.ipynb#X13sZmlsZQ%3D%3D?line=50'>51</a>\u001b[0m \u001b[39mfor\u001b[39;00m var \u001b[39min\u001b[39;00m test_vars:\n\u001b[1;32m---> <a href='vscode-notebook-cell:/d%3A/OneDrive/_Cloud%20Disk/Projetos%20de%20programa%C3%A7%C3%A3o/Python%20Projects/Git/GitHub/Transition_Matrix_Process_Drift/Demonstration%20-%20Understanding%20Tasks.ipynb#X13sZmlsZQ%3D%3D?line=51'>52</a>\u001b[0m     var_type \u001b[39m=\u001b[39m identify_variable_type(merged_df[\u001b[39mf\u001b[39;49m\u001b[39m'\u001b[39;49m\u001b[39m{\u001b[39;49;00mvar\u001b[39m}\u001b[39;49;00m\u001b[39m_ref\u001b[39;49m\u001b[39m'\u001b[39;49m])\n\u001b[0;32m     <a href='vscode-notebook-cell:/d%3A/OneDrive/_Cloud%20Disk/Projetos%20de%20programa%C3%A7%C3%A3o/Python%20Projects/Git/GitHub/Transition_Matrix_Process_Drift/Demonstration%20-%20Understanding%20Tasks.ipynb#X13sZmlsZQ%3D%3D?line=53'>54</a>\u001b[0m     \u001b[39m# Test for statistical significance based on the variable type\u001b[39;00m\n\u001b[0;32m     <a href='vscode-notebook-cell:/d%3A/OneDrive/_Cloud%20Disk/Projetos%20de%20programa%C3%A7%C3%A3o/Python%20Projects/Git/GitHub/Transition_Matrix_Process_Drift/Demonstration%20-%20Understanding%20Tasks.ipynb#X13sZmlsZQ%3D%3D?line=54'>55</a>\u001b[0m     \u001b[39mif\u001b[39;00m var_type \u001b[39m==\u001b[39m \u001b[39m\"\u001b[39m\u001b[39mproportion\u001b[39m\u001b[39m\"\u001b[39m:\n",
      "\u001b[1;32md:\\OneDrive\\_Cloud Disk\\Projetos de programação\\Python Projects\\Git\\GitHub\\Transition_Matrix_Process_Drift\\Demonstration - Understanding Tasks.ipynb Cell 3\u001b[0m line \u001b[0;36m1\n\u001b[0;32m     <a href='vscode-notebook-cell:/d%3A/OneDrive/_Cloud%20Disk/Projetos%20de%20programa%C3%A7%C3%A3o/Python%20Projects/Git/GitHub/Transition_Matrix_Process_Drift/Demonstration%20-%20Understanding%20Tasks.ipynb#X13sZmlsZQ%3D%3D?line=9'>10</a>\u001b[0m \u001b[39mdef\u001b[39;00m \u001b[39midentify_variable_type\u001b[39m(series):\n\u001b[0;32m     <a href='vscode-notebook-cell:/d%3A/OneDrive/_Cloud%20Disk/Projetos%20de%20programa%C3%A7%C3%A3o/Python%20Projects/Git/GitHub/Transition_Matrix_Process_Drift/Demonstration%20-%20Understanding%20Tasks.ipynb#X13sZmlsZQ%3D%3D?line=10'>11</a>\u001b[0m \u001b[39m    \u001b[39m\u001b[39m\"\"\"\u001b[39;00m\n\u001b[0;32m     <a href='vscode-notebook-cell:/d%3A/OneDrive/_Cloud%20Disk/Projetos%20de%20programa%C3%A7%C3%A3o/Python%20Projects/Git/GitHub/Transition_Matrix_Process_Drift/Demonstration%20-%20Understanding%20Tasks.ipynb#X13sZmlsZQ%3D%3D?line=11'>12</a>\u001b[0m \u001b[39m    Identify the type of variable based on its values.\u001b[39;00m\n\u001b[0;32m     <a href='vscode-notebook-cell:/d%3A/OneDrive/_Cloud%20Disk/Projetos%20de%20programa%C3%A7%C3%A3o/Python%20Projects/Git/GitHub/Transition_Matrix_Process_Drift/Demonstration%20-%20Understanding%20Tasks.ipynb#X13sZmlsZQ%3D%3D?line=12'>13</a>\u001b[0m \u001b[39m    - 'proportion' if values are between 0 and 1.\u001b[39;00m\n\u001b[0;32m     <a href='vscode-notebook-cell:/d%3A/OneDrive/_Cloud%20Disk/Projetos%20de%20programa%C3%A7%C3%A3o/Python%20Projects/Git/GitHub/Transition_Matrix_Process_Drift/Demonstration%20-%20Understanding%20Tasks.ipynb#X13sZmlsZQ%3D%3D?line=13'>14</a>\u001b[0m \u001b[39m    - 'continuous' otherwise.\u001b[39;00m\n\u001b[0;32m     <a href='vscode-notebook-cell:/d%3A/OneDrive/_Cloud%20Disk/Projetos%20de%20programa%C3%A7%C3%A3o/Python%20Projects/Git/GitHub/Transition_Matrix_Process_Drift/Demonstration%20-%20Understanding%20Tasks.ipynb#X13sZmlsZQ%3D%3D?line=14'>15</a>\u001b[0m \u001b[39m    \"\"\"\u001b[39;00m\n\u001b[1;32m---> <a href='vscode-notebook-cell:/d%3A/OneDrive/_Cloud%20Disk/Projetos%20de%20programa%C3%A7%C3%A3o/Python%20Projects/Git/GitHub/Transition_Matrix_Process_Drift/Demonstration%20-%20Understanding%20Tasks.ipynb#X13sZmlsZQ%3D%3D?line=15'>16</a>\u001b[0m     \u001b[39mif\u001b[39;00m series\u001b[39m.\u001b[39;49mbetween(\u001b[39m0\u001b[39;49m, \u001b[39m1\u001b[39;49m)\u001b[39m.\u001b[39mall():\n\u001b[0;32m     <a href='vscode-notebook-cell:/d%3A/OneDrive/_Cloud%20Disk/Projetos%20de%20programa%C3%A7%C3%A3o/Python%20Projects/Git/GitHub/Transition_Matrix_Process_Drift/Demonstration%20-%20Understanding%20Tasks.ipynb#X13sZmlsZQ%3D%3D?line=16'>17</a>\u001b[0m         \u001b[39mreturn\u001b[39;00m \u001b[39m'\u001b[39m\u001b[39mproportion\u001b[39m\u001b[39m'\u001b[39m\n\u001b[0;32m     <a href='vscode-notebook-cell:/d%3A/OneDrive/_Cloud%20Disk/Projetos%20de%20programa%C3%A7%C3%A3o/Python%20Projects/Git/GitHub/Transition_Matrix_Process_Drift/Demonstration%20-%20Understanding%20Tasks.ipynb#X13sZmlsZQ%3D%3D?line=17'>18</a>\u001b[0m     \u001b[39mreturn\u001b[39;00m \u001b[39m'\u001b[39m\u001b[39mcontinuous\u001b[39m\u001b[39m'\u001b[39m\n",
      "File \u001b[1;32md:\\OneDrive\\_Cloud Disk\\Projetos de programação\\Python Projects\\Git\\GitHub\\Transition_Matrix_Process_Drift\\.venv\\Lib\\site-packages\\pandas\\core\\series.py:5655\u001b[0m, in \u001b[0;36mSeries.between\u001b[1;34m(self, left, right, inclusive)\u001b[0m\n\u001b[0;32m   5653\u001b[0m         inclusive \u001b[39m=\u001b[39m \u001b[39m\"\u001b[39m\u001b[39mneither\u001b[39m\u001b[39m\"\u001b[39m\n\u001b[0;32m   5654\u001b[0m \u001b[39mif\u001b[39;00m inclusive \u001b[39m==\u001b[39m \u001b[39m\"\u001b[39m\u001b[39mboth\u001b[39m\u001b[39m\"\u001b[39m:\n\u001b[1;32m-> 5655\u001b[0m     lmask \u001b[39m=\u001b[39m \u001b[39mself\u001b[39;49m \u001b[39m>\u001b[39;49m\u001b[39m=\u001b[39;49m left\n\u001b[0;32m   5656\u001b[0m     rmask \u001b[39m=\u001b[39m \u001b[39mself\u001b[39m \u001b[39m<\u001b[39m\u001b[39m=\u001b[39m right\n\u001b[0;32m   5657\u001b[0m \u001b[39melif\u001b[39;00m inclusive \u001b[39m==\u001b[39m \u001b[39m\"\u001b[39m\u001b[39mleft\u001b[39m\u001b[39m\"\u001b[39m:\n",
      "File \u001b[1;32md:\\OneDrive\\_Cloud Disk\\Projetos de programação\\Python Projects\\Git\\GitHub\\Transition_Matrix_Process_Drift\\.venv\\Lib\\site-packages\\pandas\\core\\ops\\common.py:72\u001b[0m, in \u001b[0;36m_unpack_zerodim_and_defer.<locals>.new_method\u001b[1;34m(self, other)\u001b[0m\n\u001b[0;32m     68\u001b[0m             \u001b[39mreturn\u001b[39;00m \u001b[39mNotImplemented\u001b[39m\n\u001b[0;32m     70\u001b[0m other \u001b[39m=\u001b[39m item_from_zerodim(other)\n\u001b[1;32m---> 72\u001b[0m \u001b[39mreturn\u001b[39;00m method(\u001b[39mself\u001b[39;49m, other)\n",
      "File \u001b[1;32md:\\OneDrive\\_Cloud Disk\\Projetos de programação\\Python Projects\\Git\\GitHub\\Transition_Matrix_Process_Drift\\.venv\\Lib\\site-packages\\pandas\\core\\arraylike.py:62\u001b[0m, in \u001b[0;36mOpsMixin.__ge__\u001b[1;34m(self, other)\u001b[0m\n\u001b[0;32m     60\u001b[0m \u001b[39m@unpack_zerodim_and_defer\u001b[39m(\u001b[39m\"\u001b[39m\u001b[39m__ge__\u001b[39m\u001b[39m\"\u001b[39m)\n\u001b[0;32m     61\u001b[0m \u001b[39mdef\u001b[39;00m \u001b[39m__ge__\u001b[39m(\u001b[39mself\u001b[39m, other):\n\u001b[1;32m---> 62\u001b[0m     \u001b[39mreturn\u001b[39;00m \u001b[39mself\u001b[39;49m\u001b[39m.\u001b[39;49m_cmp_method(other, operator\u001b[39m.\u001b[39;49mge)\n",
      "File \u001b[1;32md:\\OneDrive\\_Cloud Disk\\Projetos de programação\\Python Projects\\Git\\GitHub\\Transition_Matrix_Process_Drift\\.venv\\Lib\\site-packages\\pandas\\core\\series.py:6243\u001b[0m, in \u001b[0;36mSeries._cmp_method\u001b[1;34m(self, other, op)\u001b[0m\n\u001b[0;32m   6240\u001b[0m rvalues \u001b[39m=\u001b[39m extract_array(other, extract_numpy\u001b[39m=\u001b[39m\u001b[39mTrue\u001b[39;00m, extract_range\u001b[39m=\u001b[39m\u001b[39mTrue\u001b[39;00m)\n\u001b[0;32m   6242\u001b[0m \u001b[39mwith\u001b[39;00m np\u001b[39m.\u001b[39merrstate(\u001b[39mall\u001b[39m\u001b[39m=\u001b[39m\u001b[39m\"\u001b[39m\u001b[39mignore\u001b[39m\u001b[39m\"\u001b[39m):\n\u001b[1;32m-> 6243\u001b[0m     res_values \u001b[39m=\u001b[39m ops\u001b[39m.\u001b[39;49mcomparison_op(lvalues, rvalues, op)\n\u001b[0;32m   6245\u001b[0m \u001b[39mreturn\u001b[39;00m \u001b[39mself\u001b[39m\u001b[39m.\u001b[39m_construct_result(res_values, name\u001b[39m=\u001b[39mres_name)\n",
      "File \u001b[1;32md:\\OneDrive\\_Cloud Disk\\Projetos de programação\\Python Projects\\Git\\GitHub\\Transition_Matrix_Process_Drift\\.venv\\Lib\\site-packages\\pandas\\core\\ops\\array_ops.py:287\u001b[0m, in \u001b[0;36mcomparison_op\u001b[1;34m(left, right, op)\u001b[0m\n\u001b[0;32m    284\u001b[0m     \u001b[39mreturn\u001b[39;00m invalid_comparison(lvalues, rvalues, op)\n\u001b[0;32m    286\u001b[0m \u001b[39melif\u001b[39;00m is_object_dtype(lvalues\u001b[39m.\u001b[39mdtype) \u001b[39mor\u001b[39;00m \u001b[39misinstance\u001b[39m(rvalues, \u001b[39mstr\u001b[39m):\n\u001b[1;32m--> 287\u001b[0m     res_values \u001b[39m=\u001b[39m comp_method_OBJECT_ARRAY(op, lvalues, rvalues)\n\u001b[0;32m    289\u001b[0m \u001b[39melse\u001b[39;00m:\n\u001b[0;32m    290\u001b[0m     res_values \u001b[39m=\u001b[39m _na_arithmetic_op(lvalues, rvalues, op, is_cmp\u001b[39m=\u001b[39m\u001b[39mTrue\u001b[39;00m)\n",
      "File \u001b[1;32md:\\OneDrive\\_Cloud Disk\\Projetos de programação\\Python Projects\\Git\\GitHub\\Transition_Matrix_Process_Drift\\.venv\\Lib\\site-packages\\pandas\\core\\ops\\array_ops.py:75\u001b[0m, in \u001b[0;36mcomp_method_OBJECT_ARRAY\u001b[1;34m(op, x, y)\u001b[0m\n\u001b[0;32m     73\u001b[0m     result \u001b[39m=\u001b[39m libops\u001b[39m.\u001b[39mvec_compare(x\u001b[39m.\u001b[39mravel(), y\u001b[39m.\u001b[39mravel(), op)\n\u001b[0;32m     74\u001b[0m \u001b[39melse\u001b[39;00m:\n\u001b[1;32m---> 75\u001b[0m     result \u001b[39m=\u001b[39m libops\u001b[39m.\u001b[39;49mscalar_compare(x\u001b[39m.\u001b[39;49mravel(), y, op)\n\u001b[0;32m     76\u001b[0m \u001b[39mreturn\u001b[39;00m result\u001b[39m.\u001b[39mreshape(x\u001b[39m.\u001b[39mshape)\n",
      "File \u001b[1;32md:\\OneDrive\\_Cloud Disk\\Projetos de programação\\Python Projects\\Git\\GitHub\\Transition_Matrix_Process_Drift\\.venv\\Lib\\site-packages\\pandas\\_libs\\ops.pyx:107\u001b[0m, in \u001b[0;36mpandas._libs.ops.scalar_compare\u001b[1;34m()\u001b[0m\n",
      "\u001b[1;31mTypeError\u001b[0m: '>=' not supported between instances of 'str' and 'int'"
     ]
    }
   ],
   "source": [
    "import pandas as pd\n",
    "from scipy.stats import ttest_ind\n",
    "from statsmodels.stats.proportion import proportions_ztest\n",
    "\n",
    "# Load data from the Excel file\n",
    "reference_window_df = pd.read_excel(\"Input/Test/GPT_ConceptDrift_Samples.xlsx\", sheet_name='Reference Window')\n",
    "detection_window_df = pd.read_excel(\"Input/Test/GPT_ConceptDrift_Samples.xlsx\", sheet_name='Detection Window')\n",
    "\n",
    "# Helper function to identify the type of variable\n",
    "def identify_variable_type(series):\n",
    "    \"\"\"\n",
    "    Identify the type of variable based on its values.\n",
    "    - 'proportion' if values are between 0 and 1.\n",
    "    - 'continuous' otherwise.\n",
    "    \"\"\"\n",
    "    if series.between(0, 1).all():\n",
    "        return 'proportion'\n",
    "    return 'continuous'\n",
    "\n",
    "def perform_z_test_for_proportions(reference_counts, detection_counts, reference_nobs, detection_nobs):\n",
    "    \"\"\"\n",
    "    Conduct a Z-test for two proportions.\n",
    "    \n",
    "    Parameters:\n",
    "    - reference_counts: Number of successes in the reference dataset.\n",
    "    - detection_counts: Number of successes in the detection dataset.\n",
    "    - reference_nobs: Number of observations in the reference dataset.\n",
    "    - detection_nobs: Number of observations in the detection dataset.\n",
    "\n",
    "    Returns:\n",
    "    - p-value of the Z-test.\n",
    "    \"\"\"\n",
    "    stat, pval = proportions_ztest([reference_counts, detection_counts], [reference_nobs, detection_nobs])\n",
    "    return pval\n",
    "\n",
    "# Generic function to detect statistically significant transitions\n",
    "def detect_significant_transitions(reference_df, detection_df):\n",
    "    \"\"\"\n",
    "    Detect transitions with statistically significant differences for all variables.\n",
    "    \"\"\"\n",
    "    significant_transitions = []\n",
    "\n",
    "    # Merge the two dataframes based on 'From' and 'To' columns\n",
    "    merged_df = pd.merge(reference_df, detection_df, on=['From', 'To'], how='outer', suffixes=('_ref', '_det'))\n",
    "    merged_df.fillna(0, inplace=True)  # Replace NaN values with 0\n",
    "\n",
    "    # Identify variables to test (excluding 'From', 'To', and 'Frequency')\n",
    "    test_vars = [col for col in merged_df.columns if col not in ['From', 'To', 'Frequency_ref', 'Frequency_det']]\n",
    "    test_vars = [var.split('_ref')[0] for var in test_vars if '_ref' in var]\n",
    "\n",
    "    for var in test_vars:\n",
    "        var_type = identify_variable_type(merged_df[f'{var}_ref'])\n",
    "\n",
    "        # Test for statistical significance based on the variable type\n",
    "        if var_type == \"proportion\":\n",
    "            merged_df[f'p_value_{var}'] = merged_df.apply(lambda row: perform_z_test_for_proportions(\n",
    "                row[f'{var}_ref'] * row['Frequency_ref'], \n",
    "                row[f'{var}_det'] * row['Frequency_det'], \n",
    "                row['Frequency_ref'], \n",
    "                row['Frequency_det']\n",
    "            ), axis=1)\n",
    "        else:  # continuous\n",
    "            stat, pval = ttest_ind(\n",
    "                merged_df[f'{var}_ref'] * merged_df['Frequency_ref'], \n",
    "                merged_df[f'{var}_det'] * merged_df['Frequency_det'], \n",
    "                equal_var=False, nan_policy='omit'\n",
    "            )\n",
    "            merged_df[f'p_value_{var}'] = pval\n",
    "        \n",
    "        # Filter for significant transitions\n",
    "        sig_transitions = merged_df[merged_df[f'p_value_{var}'] < 0.05][['From', 'To', f'{var}_ref', f'{var}_det', f'p_value_{var}']]\n",
    "        significant_transitions.append(sig_transitions)\n",
    "\n",
    "    return significant_transitions\n",
    "\n",
    "# Detect significant transitions for all variables in the datasets\n",
    "significant_transitions_list = detect_significant_transitions(reference_window_df, detection_window_df)\n",
    "significant_transitions_list"
   ]
  },
  {
   "cell_type": "code",
   "execution_count": null,
   "metadata": {},
   "outputs": [],
   "source": [
    "from scipy.stats import fisher_exact\n",
    "\n",
    "# Initialize a list to store the results of the statistical tests\n",
    "significant_transitions = []\n",
    "\n",
    "# Loop through each unique transition and perform the appropriate statistical test\n",
    "for transition in all_unique_transitions_list:\n",
    "    # Extract the frequencies for the transition in both sheets\n",
    "    freq_reference = reference_window_df.loc[(reference_window_df['From'] == transition[0]) & \n",
    "                                             (reference_window_df['To'] == transition[1]), 'Frequency'].sum()\n",
    "    freq_detection = detection_window_df.loc[(detection_window_df['From'] == transition[0]) & \n",
    "                                             (detection_window_df['To'] == transition[1]), 'Frequency'].sum()\n",
    "    \n",
    "    # Construct the contingency table\n",
    "    contingency_table = [[freq_reference, freq_detection],\n",
    "                         [total_freq_reference - freq_reference, total_freq_detection - freq_detection]]\n",
    "    \n",
    "    # Calculate the minimum expected frequency in the contingency table\n",
    "    row_totals = [sum(row) for row in contingency_table]\n",
    "    col_totals = [sum(col) for col in zip(*contingency_table)]\n",
    "    grand_total = sum(row_totals)\n",
    "    expected_min = min((row_total * col_total / grand_total) for row_total, col_total in zip(row_totals, col_totals))\n",
    "    \n",
    "    # Perform the Chi-Square test if the minimum expected frequency is 5 or more, else perform Fisher's Exact Test\n",
    "    if expected_min >= 5:\n",
    "        _, p, _, _ = chi2_contingency(contingency_table, correction=False)\n",
    "    else:\n",
    "        _, p = fisher_exact(contingency_table)\n",
    "    \n",
    "    # If p-value is less than 0.05, then the transition is considered as having a statistically significant difference\n",
    "    if p < 0.05:\n",
    "        significant_transitions.append({\n",
    "            'transition': transition,\n",
    "            'p_value': p,\n",
    "            'freq_reference': freq_reference,\n",
    "            'freq_detection': freq_detection\n",
    "        })\n",
    "\n",
    "# Display the transitions with statistically significant differences\n",
    "significant_transitions[:5], len(significant_transitions)"
   ]
  },
  {
   "cell_type": "code",
   "execution_count": 25,
   "metadata": {},
   "outputs": [],
   "source": [
    "import os\n",
    "from langchain.llms import OpenAI\n",
    "from langchain.agents import create_pandas_dataframe_agent \n",
    "import pandas as pd\n",
    "\n",
    "# insert API_TOKEN in the file to be read here\n",
    "with open('Temp/open_ai_token.txt', 'r') as file:\n",
    "    os.environ[\"OPENAI_API_KEY\"] = file.read().rstrip()\n"
   ]
  },
  {
   "cell_type": "code",
   "execution_count": 22,
   "metadata": {},
   "outputs": [],
   "source": [
    "# Instanciating a proprietary LLM from OpenAI\n",
    "llm = OpenAI(model_name=\"text-davinci-003\", temperature=0)"
   ]
  },
  {
   "cell_type": "code",
   "execution_count": 30,
   "metadata": {},
   "outputs": [],
   "source": [
    "# The LLM takes a prompt as an input and outputs a completion\n",
    "# prompt = \"Alice has a parrot. What animal is Alice's pet?\"\n",
    "# completion = llm(prompt)\n",
    "# print(completion)"
   ]
  },
  {
   "cell_type": "code",
   "execution_count": 33,
   "metadata": {},
   "outputs": [
    {
     "name": "stdout",
     "output_type": "stream",
     "text": [
      "\n",
      "\n",
      "\u001b[1m> Entering new AgentExecutor chain...\u001b[0m\n",
      "\u001b[32;1m\u001b[1;3mThought: I need to know what columns are present and what is the content of them\n",
      "Action: python_repl_ast\n",
      "Action Input: df.columns\u001b[0m\n",
      "Observation: \u001b[36;1m\u001b[1;3mIndex(['From', 'To', 'Probability', 'Frequency', 'Text format'], dtype='object')\u001b[0m\n",
      "Thought:"
     ]
    },
    {
     "name": "stderr",
     "output_type": "stream",
     "text": [
      "d:\\OneDrive\\_Cloud Disk\\Projetos de programação\\Python Projects\\Git\\GitHub\\Transition_Matrix_Process_Drift\\.venv\\Lib\\site-packages\\langchain\\tools\\python\\tool.py:137: LangChainPendingDeprecationWarning: On 2023-10-27 this module will be be deprecated from langchain, and will be available from the langchain-experimental package.This code is already available in langchain-experimental.See https://github.com/langchain-ai/langchain/discussions/11680.\n",
      "  warn_deprecated(\n"
     ]
    },
    {
     "name": "stdout",
     "output_type": "stream",
     "text": [
      "\u001b[32;1m\u001b[1;3m I now need to know the data types of the columns\n",
      "Action: python_repl_ast\n",
      "Action Input: df.dtypes\u001b[0m\n",
      "Observation: \u001b[36;1m\u001b[1;3mFrom            object\n",
      "To              object\n",
      "Probability    float64\n",
      "Frequency        int64\n",
      "Text format     object\n",
      "dtype: object\u001b[0m\n",
      "Thought:"
     ]
    },
    {
     "name": "stderr",
     "output_type": "stream",
     "text": [
      "d:\\OneDrive\\_Cloud Disk\\Projetos de programação\\Python Projects\\Git\\GitHub\\Transition_Matrix_Process_Drift\\.venv\\Lib\\site-packages\\langchain\\tools\\python\\tool.py:137: LangChainPendingDeprecationWarning: On 2023-10-27 this module will be be deprecated from langchain, and will be available from the langchain-experimental package.This code is already available in langchain-experimental.See https://github.com/langchain-ai/langchain/discussions/11680.\n",
      "  warn_deprecated(\n"
     ]
    },
    {
     "name": "stdout",
     "output_type": "stream",
     "text": [
      "\u001b[32;1m\u001b[1;3m I now need to know the data summary\n",
      "Action: python_repl_ast\n",
      "Action Input: df.describe()\u001b[0m"
     ]
    },
    {
     "name": "stderr",
     "output_type": "stream",
     "text": [
      "d:\\OneDrive\\_Cloud Disk\\Projetos de programação\\Python Projects\\Git\\GitHub\\Transition_Matrix_Process_Drift\\.venv\\Lib\\site-packages\\langchain\\tools\\python\\tool.py:137: LangChainPendingDeprecationWarning: On 2023-10-27 this module will be be deprecated from langchain, and will be available from the langchain-experimental package.This code is already available in langchain-experimental.See https://github.com/langchain-ai/langchain/discussions/11680.\n",
      "  warn_deprecated(\n"
     ]
    },
    {
     "name": "stdout",
     "output_type": "stream",
     "text": [
      "\n",
      "Observation: \u001b[36;1m\u001b[1;3m       Probability   Frequency\n",
      "count    63.000000   63.000000\n",
      "mean      0.126984   12.698413\n",
      "std       0.283530   28.352980\n",
      "min       0.000000    0.000000\n",
      "25%       0.000000    0.000000\n",
      "50%       0.000000    0.000000\n",
      "75%       0.000000    0.000000\n",
      "max       1.000000  100.000000\u001b[0m\n",
      "Thought:\u001b[32;1m\u001b[1;3m I now know the final answer\n",
      "Final Answer: The dataframe contains five columns of data, with the columns 'From' and 'To' as strings, 'Probability' and 'Frequency' as numeric values, and 'Text format' as a string. The summary statistics show that the Probability ranges from 0 to 1, and the Frequency ranges from 0 to 100.\u001b[0m\n",
      "\n",
      "\u001b[1m> Finished chain.\u001b[0m\n"
     ]
    },
    {
     "data": {
      "text/plain": [
       "\"The dataframe contains five columns of data, with the columns 'From' and 'To' as strings, 'Probability' and 'Frequency' as numeric values, and 'Text format' as a string. The summary statistics show that the Probability ranges from 0 to 1, and the Frequency ranges from 0 to 100.\""
      ]
     },
     "execution_count": 33,
     "metadata": {},
     "output_type": "execute_result"
    }
   ],
   "source": [
    "agent = create_pandas_dataframe_agent(llm, reference_window, verbose=True)\n",
    "agent.run(\"Summary what have in the dataset\")\n"
   ]
  },
  {
   "cell_type": "code",
   "execution_count": null,
   "metadata": {},
   "outputs": [],
   "source": []
  }
 ],
 "metadata": {
  "kernelspec": {
   "display_name": ".venv",
   "language": "python",
   "name": "python3"
  },
  "language_info": {
   "codemirror_mode": {
    "name": "ipython",
    "version": 3
   },
   "file_extension": ".py",
   "mimetype": "text/x-python",
   "name": "python",
   "nbconvert_exporter": "python",
   "pygments_lexer": "ipython3",
   "version": "3.11.1"
  }
 },
 "nbformat": 4,
 "nbformat_minor": 2
}
